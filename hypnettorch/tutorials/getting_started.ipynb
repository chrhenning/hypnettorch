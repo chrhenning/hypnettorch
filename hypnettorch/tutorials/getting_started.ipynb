{
 "cells": [
  {
   "cell_type": "markdown",
   "metadata": {},
   "source": [
    "# How to use the package *hypnettorch*\n",
    "\n",
    "The package [hypnettorch](https://hypnettorch.readthedocs.io/en/latest/#hypnettorch) provides a lot of useful features, its core purpose, however, is to provide an easy way to work with [hypernetworks](https://arxiv.org/abs/1609.09106) in [PyTorch](https://pytorch.org/).\n",
    "\n",
    "To see how easy it is to get started and work with this package, we will walk through a basic example of training an MNIST/FashionMNIST classifier within a single hypernetwork."
   ]
  },
  {
   "cell_type": "code",
   "execution_count": 1,
   "metadata": {},
   "outputs": [],
   "source": [
    "from IPython.display import display, Markdown, Latex\n",
    "import numpy as np\n",
    "import torch\n",
    "from torch import nn\n",
    "\n",
    "device = 'cuda' if torch.cuda.is_available() else 'cpu'"
   ]
  },
  {
   "cell_type": "markdown",
   "metadata": {},
   "source": [
    "## Load the data\n",
    "\n",
    "We first load the datasets used in this tutorial.\n",
    "\n",
    "The data handlers in subpackage [hypnettorch.data](https://hypnettorch.readthedocs.io/en/latest/data.html) provide a consistent and convenient interface. It is, however, not required to use them. When using other data handlers, note that convolutional networks in subpackage [hypnettorch.mnets](https://hypnettorch.readthedocs.io/en/latest/mnets.html) by default expect a flattened input (see, for instance, option ``chw_input_format`` of class [mnets.WRN](https://hypnettorch.readthedocs.io/en/latest/mnets.html#wide-resnet))."
   ]
  },
  {
   "cell_type": "code",
   "execution_count": 2,
   "metadata": {},
   "outputs": [],
   "source": [
    "# Specify where to download the datasets?\n",
    "data_dir = '.'"
   ]
  },
  {
   "cell_type": "code",
   "execution_count": 3,
   "metadata": {},
   "outputs": [
    {
     "name": "stdout",
     "output_type": "stream",
     "text": [
      "Reading MNIST dataset ...\n",
      "Elapsed time to read dataset: 0.193871 sec\n"
     ]
    },
    {
     "data": {
      "image/png": "[encoded data removed]",
      "text/plain": [
       "<Figure size 720x432 with 4 Axes>"
      ]
     },
     "metadata": {
      "needs_background": "light"
     },
     "output_type": "display_data"
    },
    {
     "data": {
      "image/png": "[encoded data removed]",
      "text/plain": [
       "<Figure size 720x432 with 4 Axes>"
      ]
     },
     "metadata": {
      "needs_background": "light"
     },
     "output_type": "display_data"
    }
   ],
   "source": [
    "from hypnettorch.data import FashionMNISTData, MNISTData\n",
    "\n",
    "mnist = MNISTData(data_dir, use_one_hot=True, validation_size=0)\n",
    "fmnist = FashionMNISTData(data_dir, use_one_hot=True, validation_size=0)\n",
    "\n",
    "# Get a batch of training samples from each data handler.\n",
    "mnist_inps, mnist_trgts = mnist.next_train_batch(4)\n",
    "fmnist_inps, fmnist_trgts = fmnist.next_train_batch(4)\n",
    "\n",
    "mnist.plot_samples('MNIST Examples', mnist_inps, outputs=mnist_trgts)\n",
    "fmnist.plot_samples('FashionMNIST Examples', fmnist_inps, outputs=fmnist_trgts)"
   ]
  },
  {
   "cell_type": "markdown",
   "metadata": {},
   "source": [
    "## Instantiate the main network\n",
    "\n",
    "A *hypernetwork* is a weight generator, it thus generates the weights of another network, which we call *main* or *target* network.\n",
    "\n",
    "A variety of already implemented main networks can be found in subpackage [hypnettorch.mnets](https://hypnettorch.readthedocs.io/en/latest/mnets.html). Every main network must implement the interface [hypnettorch.mnets.MainNetInterface](https://hypnettorch.readthedocs.io/en/latest/mnets.html#main-network-interface). One important aspect of this interface is, that network parameters can be passed as additional input to the ``forward`` method.\n",
    "\n",
    "Most implemented networks have a constructor argument like ``no_weights``, which allows the instatiation with or without internal parameter tensors. If a network is instantiated with ``no_weights=True``, then weights have to be provided via the ``forward`` method, as the network has no internal weights to make inference."
   ]
  },
  {
   "cell_type": "code",
   "execution_count": 4,
   "metadata": {},
   "outputs": [
    {
     "name": "stdout",
     "output_type": "stream",
     "text": [
      "Creating an MLP with 478410 weights.\n",
      "Creating an MLP with 478410 weights.\n"
     ]
    },
    {
     "data": {
      "text/markdown": [
       "**MLP with weights**"
      ],
      "text/plain": [
       "<IPython.core.display.Markdown object>"
      ]
     },
     "metadata": {},
     "output_type": "display_data"
    },
    {
     "name": "stdout",
     "output_type": "stream",
     "text": [
      "Num internal weights 478410, num total 478410.\n",
      "Number of parameter tensors: 6\n",
      "Predicted classes:  tensor([8, 8, 2, 2])\n"
     ]
    },
    {
     "data": {
      "text/markdown": [
       "**MLP without weights**"
      ],
      "text/plain": [
       "<IPython.core.display.Markdown object>"
      ]
     },
     "metadata": {},
     "output_type": "display_data"
    },
    {
     "name": "stdout",
     "output_type": "stream",
     "text": [
      "Num internal weights 0, num total 478410.\n",
      "Number of parameter tensors: 0\n"
     ]
    },
    {
     "data": {
      "text/markdown": [
       "An **error** occured during the forward pass."
      ],
      "text/plain": [
       "<IPython.core.display.Markdown object>"
      ]
     },
     "metadata": {},
     "output_type": "display_data"
    },
    {
     "name": "stdout",
     "output_type": "stream",
     "text": [
      "Traceback (most recent call last):\n",
      "  File \"/tmp/ipykernel_11968/4169724310.py\", line 29, in <module>\n",
      "    Y = net.forward(X, weights=None)\n",
      "  File \"/home/christian/workspace/hypnettorch/hypnettorch/mnets/mlp.py\", line 527, in forward\n",
      "    raise Exception('Network was generated without weights. ' +\n",
      "Exception: Network was generated without weights. Hence, \"weights\" option may not be None.\n"
     ]
    }
   ],
   "source": [
    "from hypnettorch.mnets import MLP\n",
    "\n",
    "num_pixel = np.prod(mnist.in_shape)\n",
    "\n",
    "# Create a fully-connected network with and without internal parameters.\n",
    "mlp_with = MLP(n_in=num_pixel, n_out=10, hidden_layers=[400,400],\n",
    "               no_weights=False).to(device)\n",
    "\n",
    "mlp_without = MLP(n_in=num_pixel, n_out=10, hidden_layers=[400,400],\n",
    "                  no_weights=True).to(device)\n",
    "\n",
    "for name, net in [('MLP with weights', mlp_with),\n",
    "                  ('MLP without weights', mlp_without)]:\n",
    "    display(Markdown('**%s**' % name))\n",
    "\n",
    "    print('Num internal weights %d, num total %d.' % \\\n",
    "          (net.num_internal_params, net.num_params))\n",
    "\n",
    "    print('Number of parameter tensors: %d' % \\\n",
    "          len(list(net.parameters())))\n",
    "\n",
    "    ### Example forward pass (with randomly initialized network).\n",
    "    # Note, the data handler returns the data as a numpy array, which\n",
    "    # has to be translated to a torch tensor.\n",
    "    mnist_inps, _ = mnist.next_train_batch(4)\n",
    "    X = mnist.input_to_torch_tensor(mnist_inps, device, mode='train')\n",
    "    \n",
    "    try:\n",
    "        Y = net.forward(X, weights=None)\n",
    "        print('Predicted classes: ', Y.max(dim=1)[1])\n",
    "    except:\n",
    "        import sys\n",
    "        import traceback\n",
    "        display(Markdown('An **error** occured during the forward pass.'))\n",
    "        traceback.print_exc(file=sys.stdout)"
   ]
  },
  {
   "cell_type": "markdown",
   "metadata": {},
   "source": [
    "### Instantiate a small LeNet\n",
    "\n",
    "For this tutorial, we work with a small convolutional network, which has no internal weights. Therefore, we later need to create a hypernetwork which can produce weights for this main network in order to make inference."
   ]
  },
  {
   "cell_type": "code",
   "execution_count": 5,
   "metadata": {},
   "outputs": [
    {
     "name": "stdout",
     "output_type": "stream",
     "text": [
      "Creating a LeNet with 21840 weights.\n"
     ]
    }
   ],
   "source": [
    "from hypnettorch.mnets import LeNet\n",
    "\n",
    "mnet = LeNet(in_shape=mnist.in_shape, num_classes=mnist.num_classes,\n",
    "             arch='mnist_small', no_weights=True)"
   ]
  },
  {
   "cell_type": "markdown",
   "metadata": {
    "tags": []
   },
   "source": [
    "## Instantiate a hypernetwork\n",
    "\n",
    "A variety of hypernetworks is available in subpackage [hypnettorch.hnets](https://hypnettorch.readthedocs.io/en/latest/hnets.html). The simplest being a fully-connected hypernetwork, see class [hypnettorch.hnets.HMLP](https://hypnettorch.readthedocs.io/en/latest/hnets.html#mlp-hypernetwork). Such simplistic hypernetwork is huge, as its parameter count is quadratic in the number of parameters of the corresponding main network. Therefore, several more sophisticated hypernetwork options are available, which are just as simple to use (most notably, [hypnettorch.hnets.ChunkedHMLP](https://hypnettorch.readthedocs.io/en/latest/hnets.html#chunked-mlp-hypernetwork)). However, to keep this tutorial light, we don't discuss these options here.\n",
    "\n",
    "All hypernetworks must implement the interface [hypnettorch.hnets.HyperNetInterface](https://hypnettorch.readthedocs.io/en/latest/hnets.html#hypernetwork-interface), which in turn implements [hypnettorch.mnets.MainNetInterface](https://hypnettorch.readthedocs.io/en/latest/mnets.html#main-network-interface). Thus, every hypernetwork can also function as a main network (e.g., you can easily instantiate a hypernetwork of a hypernetwork).\n",
    "\n",
    "Hypernetworks usually distinguish between two types of inputs: *conditional* and *unconditional* inputs. Conditional inputs are simply inputs that can be related to a finite and discrete set of conditions, such as the [task identity in continual learning](https://arxiv.org/abs/1906.00695). Simply speaking, conditional inputs can be used if the number $N$ of conditions is known a priori. In this case, the hypernetwork will create a set of $N$ learnable condition vectors (e.g., task embeddings), and can take the condition ID (as integer) as input to the ``forward`` method. This simplifies many usage scenarios, as the user of a hypernetwork does not have to maintain learnable input embeddings to the hypernetwork by himself. In all other cases (like the input to the hypernetwork comes from a continuous vector space), *unconditional* inputs should be used.\n",
    "\n",
    "In our case, the hypernetwork should either generate a set of weights for MNIST (condition $0$) or FashionMNIST (condition $1$). Each of these conditions should internally be represented by a $8$-dimensional embedding vector."
   ]
  },
  {
   "cell_type": "code",
   "execution_count": 6,
   "metadata": {},
   "outputs": [
    {
     "name": "stdout",
     "output_type": "stream",
     "text": [
      "Created MLP Hypernet.\n",
      "Hypernetwork with 2216856 weights and 21840 outputs (compression ratio: 101.50).\n",
      "The network consists of 2216840 unconditional weights (2216840 internally maintained) and 16 conditional weights (16 internally maintained).\n",
      "\n",
      "The randomly initialized input embeddings are:\n",
      " [Parameter containing:\n",
      "tensor([-0.4294,  0.7109,  0.7438, -0.0707, -1.0180, -0.8410,  2.4450, -1.9270],\n",
      "       requires_grad=True), Parameter containing:\n",
      "tensor([-1.9397, -0.9431, -1.8001, -1.8449,  0.5752, -0.3523,  0.4383,  1.7646],\n",
      "       requires_grad=True)]\n"
     ]
    }
   ],
   "source": [
    "from hypnettorch.hnets import HMLP\n",
    "\n",
    "hnet = HMLP(mnet.param_shapes, uncond_in_size=0, cond_in_size=8,\n",
    "            layers=[100, 100], num_cond_embs=2)\n",
    "\n",
    "print()\n",
    "print('The randomly initialized input embeddings are:\\n', \n",
    "      hnet.conditional_params)\n",
    "\n",
    "# To produce main network weights for condition `0`, we can either pass\n",
    "# the corresponding condition ID, or the corresponding (internally maintained)\n",
    "# embedding to the `forward` of the hypernetwork.\n",
    "W0 = hnet.forward(cond_id=0)\n",
    "W0_tmp = hnet.forward(cond_input=hnet.conditional_params[0].view(1, -1))\n",
    "assert np.all([torch.equal(W0[i], W0_tmp[i]) for i in range(len(W0))])\n",
    "\n",
    "# Hypernetworks also allow batch processing.\n",
    "W_batch = hnet.forward(cond_id=[0, 0])\n",
    "assert np.all([torch.equal(W_batch[0][i], W_batch[1][i]) \\\n",
    "               for i in range(len(W0))])"
   ]
  },
  {
   "cell_type": "markdown",
   "metadata": {},
   "source": [
    "**Hypernetwork initialization** can be an important factor, for instance, [when using optimizers such as SGD](https://openreview.net/forum?id=H1lma24tPB). Therefore, some hypernet implementations provide custom initialization functions."
   ]
  },
  {
   "cell_type": "code",
   "execution_count": 7,
   "metadata": {},
   "outputs": [],
   "source": [
    "hnet.apply_hyperfan_init(mnet=mnet)"
   ]
  },
  {
   "cell_type": "markdown",
   "metadata": {},
   "source": [
    "**Making predictions** with the target network is fairly easy. Simply generate the corresponding weights with the hypernetwork and pass them to the ``forward`` method of the main network together with the network inputs. "
   ]
  },
  {
   "cell_type": "code",
   "execution_count": 8,
   "metadata": {},
   "outputs": [
    {
     "name": "stdout",
     "output_type": "stream",
     "text": [
      "Predicted classes for condition 0:  tensor([5, 5, 5, 5])\n",
      "Predicted classes for condition 1:  tensor([5, 5, 5, 5])\n"
     ]
    }
   ],
   "source": [
    "# Get a batch of main network inputs.\n",
    "mnist_inps, _ = mnist.next_train_batch(4)\n",
    "X = mnist.input_to_torch_tensor(mnist_inps, device, mode='train')\n",
    "\n",
    "# Generate the main network weights for both conditions.\n",
    "W = hnet.forward(cond_id=[0, 1])\n",
    "\n",
    "Y0 = mnet.forward(X, weights=W[0])\n",
    "print('Predicted classes for condition 0: ', Y0.max(dim=1)[1])\n",
    "\n",
    "Y1 = mnet.forward(X, weights=W[1])\n",
    "print('Predicted classes for condition 1: ', Y1.max(dim=1)[1])"
   ]
  },
  {
   "cell_type": "markdown",
   "metadata": {},
   "source": [
    "## A complete training example\n",
    "\n",
    "So far, we have seen how to instantiate and use networks. However, predictions weren't useful so far, as all parameters were still randomly initialized. Therefore, we now look at a simple example on how to train a hypernetwork."
   ]
  },
  {
   "cell_type": "code",
   "execution_count": 9,
   "metadata": {},
   "outputs": [
    {
     "name": "stdout",
     "output_type": "stream",
     "text": [
      "[1,   501] loss: 0.447, MNIST acc: 94.97%, FashionMNIST acc: 77.28%\n",
      "[1,  1001] loss: 0.452, MNIST acc: 95.70%, FashionMNIST acc: 80.24%\n",
      "[1,  1501] loss: 0.717, MNIST acc: 97.07%, FashionMNIST acc: 82.12%\n",
      "[2,   501] loss: 1.039, MNIST acc: 96.14%, FashionMNIST acc: 82.87%\n",
      "[2,  1001] loss: 0.494, MNIST acc: 97.89%, FashionMNIST acc: 81.61%\n",
      "[2,  1501] loss: 0.560, MNIST acc: 98.11%, FashionMNIST acc: 84.34%\n",
      "[3,   501] loss: 0.536, MNIST acc: 97.93%, FashionMNIST acc: 83.41%\n",
      "[3,  1001] loss: 0.409, MNIST acc: 98.00%, FashionMNIST acc: 85.71%\n",
      "[3,  1501] loss: 0.426, MNIST acc: 98.15%, FashionMNIST acc: 85.05%\n",
      "[4,   501] loss: 0.372, MNIST acc: 98.07%, FashionMNIST acc: 84.50%\n",
      "[4,  1001] loss: 0.279, MNIST acc: 97.91%, FashionMNIST acc: 86.26%\n",
      "[4,  1501] loss: 0.629, MNIST acc: 97.63%, FashionMNIST acc: 84.18%\n",
      "[5,   501] loss: 0.323, MNIST acc: 98.48%, FashionMNIST acc: 85.75%\n",
      "[5,  1001] loss: 0.536, MNIST acc: 98.31%, FashionMNIST acc: 85.65%\n",
      "[5,  1501] loss: 0.639, MNIST acc: 98.60%, FashionMNIST acc: 85.82%\n",
      "[6,   501] loss: 0.545, MNIST acc: 98.57%, FashionMNIST acc: 86.18%\n",
      "[6,  1001] loss: 0.495, MNIST acc: 98.43%, FashionMNIST acc: 86.21%\n",
      "[6,  1501] loss: 0.300, MNIST acc: 98.53%, FashionMNIST acc: 86.25%\n",
      "[7,   501] loss: 0.284, MNIST acc: 98.37%, FashionMNIST acc: 85.95%\n",
      "[7,  1001] loss: 0.788, MNIST acc: 98.30%, FashionMNIST acc: 86.39%\n",
      "[7,  1501] loss: 0.383, MNIST acc: 98.43%, FashionMNIST acc: 87.19%\n",
      "[8,   501] loss: 0.403, MNIST acc: 98.71%, FashionMNIST acc: 87.03%\n",
      "[8,  1001] loss: 0.407, MNIST acc: 98.59%, FashionMNIST acc: 86.95%\n",
      "[8,  1501] loss: 0.395, MNIST acc: 98.61%, FashionMNIST acc: 87.08%\n",
      "[9,   501] loss: 0.353, MNIST acc: 98.57%, FashionMNIST acc: 86.59%\n",
      "[9,  1001] loss: 0.347, MNIST acc: 98.79%, FashionMNIST acc: 87.42%\n",
      "[9,  1501] loss: 0.484, MNIST acc: 98.48%, FashionMNIST acc: 86.94%\n",
      "[10,   501] loss: 0.288, MNIST acc: 98.74%, FashionMNIST acc: 87.10%\n",
      "[10,  1001] loss: 0.174, MNIST acc: 98.66%, FashionMNIST acc: 87.11%\n",
      "[10,  1501] loss: 0.109, MNIST acc: 98.53%, FashionMNIST acc: 86.72%\n",
      "Training finished with test-accs: MNIST acc: 98.79%, FashionMNIST 86.85%\n"
     ]
    }
   ],
   "source": [
    "def calc_accuracy(data, mnet, mnet_weights):\n",
    "    \"\"\"Compute the test accuracy for a given dataset\"\"\"\n",
    "    with torch.no_grad():\n",
    "        # Process complete test set as one batch.\n",
    "        test_in = data.input_to_torch_tensor( \\\n",
    "            data.get_test_inputs(), device, mode='inference')\n",
    "        test_out = data.input_to_torch_tensor( \\\n",
    "            data.get_test_outputs(), device, mode='inference')\n",
    "        test_lbls = test_out.max(dim=1)[1]\n",
    "\n",
    "        logits = mnet(test_in, weights=mnet_weights)\n",
    "        pred_lbls = logits.max(dim=1)[1]\n",
    "\n",
    "        acc = torch.sum(test_lbls == pred_lbls) / test_lbls.numel() * 100.\n",
    "\n",
    "    return acc\n",
    "\n",
    "# Configure training.\n",
    "lr=1e-4\n",
    "batchsize=32\n",
    "nepochs=10\n",
    "\n",
    "# Adam usually works well in combination with hypernetwork training.\n",
    "optimizer = torch.optim.Adam(hnet.internal_params, lr=lr)\n",
    "criterion = nn.CrossEntropyLoss()\n",
    "\n",
    "for epoch in range(nepochs): # For each epoch.\n",
    "\n",
    "    # Iterate over the whole MNIST/FashionMNIST training set.\n",
    "    # Note, that both datasets have the same number of training samples.\n",
    "    i = 0\n",
    "    for curr_batchsize, mx, my in mnist.train_iterator(batchsize):\n",
    "        i += 1\n",
    "\n",
    "        # Current mini-batch of MNIST samples.\n",
    "        mnist_X = mnist.input_to_torch_tensor(mx, device, mode='train')\n",
    "        mnist_Y = mnist.output_to_torch_tensor(my, device, mode='train')\n",
    "        \n",
    "        # Current mini-batch of FashionMNIST samples.\n",
    "        fx, fy = fmnist.next_train_batch(curr_batchsize)\n",
    "        fmnist_X = fmnist.input_to_torch_tensor(fx, device, mode='train')\n",
    "        fmnist_Y = fmnist.output_to_torch_tensor(fy, device, mode='train')\n",
    "\n",
    "        optimizer.zero_grad()\n",
    "\n",
    "        # Compute MNIST loss.\n",
    "        W_mnist = hnet(cond_id=0)\n",
    "        mnist_P = mnet.forward(mnist_X, weights=W_mnist)\n",
    "        loss_mnist = criterion(mnist_P, mnist_Y.max(dim=1)[1])\n",
    "        \n",
    "        # Compute FashionMNIST loss.\n",
    "        W_fmnist = hnet(cond_id=1)\n",
    "        fmnist_P = mnet.forward(fmnist_X, weights=W_fmnist)\n",
    "        loss_fmnist = criterion(fmnist_P, fmnist_Y.max(dim=1)[1])\n",
    "        \n",
    "        # The total loss is simply each task's loss combined.\n",
    "        loss = loss_mnist + loss_fmnist\n",
    "        loss.backward()\n",
    "        optimizer.step()\n",
    "\n",
    "        if i % 500 == 0:            \n",
    "            print('[%d, %5d] loss: %.3f, MNIST acc: %.2f%%, FashionMNIST acc: %.2f%%' %\n",
    "                  (epoch + 1, i + 1, loss.item(), \n",
    "                   calc_accuracy(mnist, mnet, W_mnist),\n",
    "                   calc_accuracy(fmnist, mnet, W_fmnist)))\n",
    "\n",
    "\n",
    "print('Training finished with test-accs: MNIST acc: %.2f%%, FashionMNIST %.2f%%' % \\\n",
    "      (calc_accuracy(mnist, mnet, W_mnist),\n",
    "       calc_accuracy(fmnist, mnet, W_fmnist)))"
   ]
  },
  {
   "cell_type": "markdown",
   "metadata": {},
   "source": [
    "### Play with trained models\n",
    "\n",
    "Now that the models are trained, we can checkout how they perform."
   ]
  },
  {
   "cell_type": "code",
   "execution_count": 10,
   "metadata": {},
   "outputs": [
    {
     "data": {
      "image/png": "[encoded data removed]",
      "text/plain": [
       "<Figure size 720x432 with 8 Axes>"
      ]
     },
     "metadata": {
      "needs_background": "light"
     },
     "output_type": "display_data"
    },
    {
     "data": {
      "image/png": "[encoded data removed]",
      "text/plain": [
       "<Figure size 720x432 with 8 Axes>"
      ]
     },
     "metadata": {
      "needs_background": "light"
     },
     "output_type": "display_data"
    }
   ],
   "source": [
    "# Get a batch of test samples from each data handler.\n",
    "mnist_inps, mnist_trgts = mnist.next_test_batch(4)\n",
    "fmnist_inps, fmnist_trgts = fmnist.next_test_batch(4)\n",
    "\n",
    "# Compute predictions for test batches above.\n",
    "with torch.no_grad():\n",
    "    mnist_X = mnist.input_to_torch_tensor(mnist_inps, device, mode='inference')\n",
    "    fmnist_X = mnist.input_to_torch_tensor(fmnist_inps, device, mode='inference')\n",
    "    \n",
    "    W_mnist = hnet(cond_id=0)\n",
    "    mnist_preds = mnet.forward(mnist_X, weights=W_mnist)\n",
    "\n",
    "    W_fmnist = hnet(cond_id=1)\n",
    "    fmnist_preds = mnet.forward(fmnist_X, weights=W_fmnist)\n",
    "    \n",
    "    # Note, the network outputs are logits, and thus not normalized.\n",
    "    mnist_preds = torch.softmax(mnist_preds, dim=1)\n",
    "    fmnist_preds = torch.softmax(fmnist_preds, dim=1)\n",
    "    \n",
    "    mnist_preds = mnist_preds.detach().cpu().numpy()\n",
    "    fmnist_preds = fmnist_preds.detach().cpu().numpy()\n",
    "\n",
    "mnist.plot_samples('MNIST Examples', mnist_inps, outputs=mnist_trgts,\n",
    "                   predictions=mnist_preds)\n",
    "fmnist.plot_samples('FashionMNIST Examples', fmnist_inps, outputs=fmnist_trgts,\n",
    "                    predictions=fmnist_preds)"
   ]
  }
 ],
 "metadata": {
  "kernelspec": {
   "display_name": "Python 3",
   "language": "python",
   "name": "python3"
  },
  "language_info": {
   "codemirror_mode": {
    "name": "ipython",
    "version": 3
   },
   "file_extension": ".py",
   "mimetype": "text/x-python",
   "name": "python",
   "nbconvert_exporter": "python",
   "pygments_lexer": "ipython3",
   "version": "3.7.9"
  }
 },
 "nbformat": 4,
 "nbformat_minor": 5
}
